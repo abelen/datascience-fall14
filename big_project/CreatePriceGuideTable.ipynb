{
 "metadata": {
  "name": ""
 },
 "nbformat": 3,
 "nbformat_minor": 0,
 "worksheets": [
  {
   "cells": [
    {
     "cell_type": "code",
     "collapsed": false,
     "input": [
      "import pandas as pd\n",
      "import numpy as np"
     ],
     "language": "python",
     "metadata": {},
     "outputs": [],
     "prompt_number": 3
    },
    {
     "cell_type": "code",
     "collapsed": false,
     "input": [
      "price_data_list = pd.read_html('priceguide_table.html')\n",
      "#print price_data_list\n",
      "price_data = price_data_list[0]\n",
      "#print type(price_data)\n",
      "price_data.to_csv('price_guide.csv');"
     ],
     "language": "python",
     "metadata": {},
     "outputs": [],
     "prompt_number": 22
    }
   ],
   "metadata": {}
  }
 ]
}