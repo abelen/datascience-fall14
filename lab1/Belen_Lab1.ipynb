{
 "metadata": {
  "name": ""
 },
 "nbformat": 3,
 "nbformat_minor": 0,
 "worksheets": [
  {
   "cells": [
    {
     "cell_type": "code",
     "collapsed": false,
     "input": [
      "print'Coefficients:', regr.coef_\n",
      "print(\"Residual sum of squares using all features: %.2f\"\n",
      "      % np.mean((regr.predict(diabetes_X_test) - diabetes_y_test) ** 2))"
     ],
     "language": "python",
     "metadata": {},
     "outputs": [
      {
       "output_type": "stream",
       "stream": "stdout",
       "text": [
        "Coefficients: [  3.03499549e-01  -2.37639315e+02   5.10530605e+02   3.27736980e+02\n",
        "  -8.14131709e+02   4.92814588e+02   1.02848452e+02   1.84606489e+02\n",
        "   7.43519617e+02   7.60951722e+01]\n",
        "Residual sum of squares using all features: 2004.57\n"
       ]
      }
     ],
     "prompt_number": 135
    }
   ],
   "metadata": {}
  }
 ]
}