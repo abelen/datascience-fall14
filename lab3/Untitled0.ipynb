{
 "metadata": {
  "name": ""
 },
 "nbformat": 3,
 "nbformat_minor": 0,
 "worksheets": [
  {
   "cells": [
    {
     "cell_type": "code",
     "collapsed": false,
     "input": [
      "import pandas as pd\n",
      "import numpy as np\n",
      "index = pd.date_range('10/1/1999', periods=1100)\n",
      "\n",
      "ts = pd.Series(np.random.normal(0.5,2,1100), index)\n",
      "#print ts\n",
      "ts = pd.rolling_mean(ts,100,100).dropna()\n",
      "#print ts\n",
      "\n",
      "#print ts.head()\n",
      "\n",
      "#print ts.tail()\n",
      "\n",
      "key = lambda x: x.year;\n",
      "#print key\n",
      "#print type(ts)\n",
      "#print type(ts.groupby(key))\n",
      "zscore = lambda x: ((x - x.mean()) / x.std())\n",
      "\n",
      "transformed = ts.groupby(key).transform(zscore)"
     ],
     "language": "python",
     "metadata": {},
     "outputs": [
      {
       "output_type": "stream",
       "stream": "stdout",
       "text": [
        "<class 'pandas.core.groupby.SeriesGroupBy'>\n"
       ]
      }
     ],
     "prompt_number": 14
    }
   ],
   "metadata": {}
  }
 ]
}