{
 "metadata": {
  "name": ""
 },
 "nbformat": 3,
 "nbformat_minor": 0,
 "worksheets": [
  {
   "cells": [
    {
     "cell_type": "code",
     "collapsed": false,
     "input": [
      "import pandas as pd\n",
      "import numpy as np"
     ],
     "language": "python",
     "metadata": {},
     "outputs": [],
     "prompt_number": 1
    },
    {
     "cell_type": "code",
     "collapsed": false,
     "input": [
      "#Exercise 1\n",
      "cmsc = pd.read_table('cmsc.txt')\n",
      "new_cmsc = cmsc['CMSC100']\n",
      "cmsc_100 = pd.Series('CMSC100')\n",
      "cmsc_100_append = cmsc_100.append(new_cmsc)\n",
      "new_table = pd.DataFrame(columns=['Course No.', \n",
      "                                     'Section No.', \n",
      "                                     'Instructor', \n",
      "                                     'Seats', \n",
      "                                     'Open', \n",
      "                                     'Waitlist', 'Days', \n",
      "                                     'Time', \n",
      "                                     'Bldg.'\n",
      "                                     , 'Room No.'])"
     ],
     "language": "python",
     "metadata": {},
     "outputs": [
      {
       "output_type": "stream",
       "stream": "stdout",
       "text": [
        "0                                    CMSC100\n",
        "0                                       0101\n",
        "1                             Charles Kassir\n",
        "2    Seats (Total: 45, Open: 4, Waitlist: 0)\n",
        "3                          M 4:00pm - 4:50pm\n",
        "4                                  CSI  2117\n",
        "dtype: object\n"
       ]
      }
     ],
     "prompt_number": 137
    },
    {
     "cell_type": "code",
     "collapsed": false,
     "input": [
      "# Exercise 2\n",
      "import re\n",
      "worldcup = pd.read_table('worldcup.txt')\n",
      "pattern = r'\\|style=\"background:#fff68f\"\\|{{fb\\|';\n",
      "pattern2 = r'^\\|{{fb\\|';\n",
      "pattern3 = r'[A-Z][A-Z][A-Z]';\n",
      "pattern4 = r'^\\|[0-9]';\n",
      "pattern5 = r'([0-9]+) FIFA World Cup';\n",
      "pattern6= r'\\|style=\"background:#fff68f\"\\|[0-9]+ \\(\\[\\[[0-9]+';\n",
      "pattern7= r'([0-9][0-9][0-9][0-9])';\n",
      "\n",
      "regex = re.compile(pattern)\n",
      "regex2 = re.compile(pattern2)\n",
      "regex3 = re.compile(pattern3)\n",
      "regex4 = re.compile(pattern4)\n",
      "regex5 = re.compile(pattern5)\n",
      "regex6 = re.compile(pattern6)\n",
      "regex7 = re.compile(pattern7)\n",
      "\n",
      "worldcup.columns = ['data']\n",
      "worldcup['data'][0]\n",
      "current_country = \"\"\n",
      "new_table = pd.DataFrame(columns=[1,2,3])\n",
      "place = 1;\n",
      "for i in range(168):\n",
      "    if (regex.match(worldcup['data'][i])) or (regex2.match(worldcup['data'][i])):\n",
      "        current_name = re.search(regex3, worldcup['data'][i]);\n",
      "        current_country = current_name.group()\n",
      "        place = 1;\n",
      "        #print current_country\n",
      "    if (regex6.match(worldcup['data'][i])):\n",
      "        current_year1 = re.findall(regex7, worldcup['data'][i], flags = 0)\n",
      "        \n",
      "        if current_year1:\n",
      "            current_year1 = set(current_year1)\n",
      "            current_year1 = list(current_year1)\n",
      "            for i in range(len(current_year1)):\n",
      "                new_table = new_table.append(pd.Series(data=(current_country,current_year1[i],place), \n",
      "                                           index=[1,2,3]), ignore_index=True)\n",
      "            place = place +1\n",
      "    if (regex4.match(worldcup['data'][i])):\n",
      "        current_year = re.findall(regex5, worldcup['data'][i], flags = 0)\n",
      "        \n",
      "        if current_year:\n",
      "            for i in range(len(current_year)):\n",
      "                new_table = new_table.append(pd.Series(data=(current_country,current_year[i],place), \n",
      "                                           index=[1,2,3]), ignore_index=True)\n",
      "        \n",
      "            place = place + 1\n",
      "print new_table"
     ],
     "language": "python",
     "metadata": {},
     "outputs": [
      {
       "output_type": "stream",
       "stream": "stdout",
       "text": [
        "      1     2  3\n",
        "0   BRA  2002  1\n",
        "1   BRA  1994  1\n",
        "2   BRA  1958  1\n",
        "3   BRA  1962  1\n",
        "4   BRA  1970  1\n",
        "5   BRA  1938  2\n",
        "6   BRA  1978  2\n",
        "7   BRA  1950  3\n",
        "8   BRA  1998  3\n",
        "9   BRA  1938  4\n",
        "10  BRA  1978  4\n",
        "11  BRA  1974  5\n",
        "12  BRA  2014  5\n",
        "13  GER  1954  1\n",
        "14  GER  1974  1\n",
        "15  GER  2014  1\n",
        "16  GER  1990  1\n",
        "17  GER  1950  2\n",
        "18  GER  1998  2\n",
        "19  GER  1966  3\n",
        "20  GER  1982  3\n",
        "21  GER  1986  3\n",
        "22  GER  2002  3\n",
        "23  GER  1934  4\n",
        "24  GER  1970  4\n",
        "25  GER  2006  4\n",
        "26  GER  2010  4\n",
        "27  GER  1958  5\n",
        "28  ITA  2006  1\n",
        "29  ITA  1938  1\n",
        "30  ITA  1982  1\n",
        "31  ITA  1934  1\n",
        "32  ITA  1950  2\n",
        "33  ITA  1998  2\n",
        "34  ITA  1970  3\n",
        "35  ITA  1994  3\n",
        "36  ITA  1990  4\n",
        "37  ITA  1978  5\n",
        "38  ARG  1986  1\n",
        "39  ARG  1978  1\n",
        "40  ARG  1930  2\n",
        "41  ARG  1990  2\n",
        "42  ARG  2014  2\n",
        "43  URU  1930  1\n",
        "44  URU  1950  1\n",
        "45  URU  1954  2\n",
        "46  URU  1970  2\n",
        "47  URU  2010  2\n",
        "48  FRA  1998  1\n",
        "49  FRA  2006  2\n",
        "50  FRA  1958  3\n",
        "51  FRA  1986  3\n",
        "52  FRA  1982  4\n",
        "53  ENG  1966  1\n",
        "54  ENG  1990  2\n",
        "55  ESP  2010  1\n",
        "56  ESP  1950  2\n",
        "57  NED  1974  1\n",
        "58  NED  1978  1\n",
        "59  NED  2010  1\n",
        "    ...   ... ..\n",
        "\n",
        "[86 rows x 3 columns]\n"
       ]
      }
     ],
     "prompt_number": 289
    },
    {
     "cell_type": "code",
     "collapsed": false,
     "input": [
      "# Exercise 3: Was not able to complete, confused on how about\n",
      "# you can do a pivot with the index keys, (the countries) without\n",
      "# being unique, and which they are not in the result of Exercise 2\n",
      "new_table.pivot(index=1, columns=2, values=3)"
     ],
     "language": "python",
     "metadata": {},
     "outputs": [
      {
       "ename": "ValueError",
       "evalue": "Index contains duplicate entries, cannot reshape",
       "output_type": "pyerr",
       "traceback": [
        "\u001b[0;31m---------------------------------------------------------------------------\u001b[0m\n\u001b[0;31mValueError\u001b[0m                                Traceback (most recent call last)",
        "\u001b[0;32m<ipython-input-321-c0d12b454dbf>\u001b[0m in \u001b[0;36m<module>\u001b[0;34m()\u001b[0m\n\u001b[0;32m----> 1\u001b[0;31m \u001b[0mnew_table\u001b[0m\u001b[0;34m.\u001b[0m\u001b[0mpivot\u001b[0m\u001b[0;34m(\u001b[0m\u001b[0mindex\u001b[0m\u001b[0;34m=\u001b[0m\u001b[0;36m1\u001b[0m\u001b[0;34m,\u001b[0m \u001b[0mcolumns\u001b[0m\u001b[0;34m=\u001b[0m\u001b[0;36m2\u001b[0m\u001b[0;34m,\u001b[0m \u001b[0mvalues\u001b[0m\u001b[0;34m=\u001b[0m\u001b[0;36m3\u001b[0m\u001b[0;34m)\u001b[0m\u001b[0;34m\u001b[0m\u001b[0m\n\u001b[0m",
        "\u001b[0;32m/usr/lib/python2.7/dist-packages/pandas/core/frame.pyc\u001b[0m in \u001b[0;36mpivot\u001b[0;34m(self, index, columns, values)\u001b[0m\n\u001b[1;32m   3114\u001b[0m         \"\"\"\n\u001b[1;32m   3115\u001b[0m         \u001b[0;32mfrom\u001b[0m \u001b[0mpandas\u001b[0m\u001b[0;34m.\u001b[0m\u001b[0mcore\u001b[0m\u001b[0;34m.\u001b[0m\u001b[0mreshape\u001b[0m \u001b[0;32mimport\u001b[0m \u001b[0mpivot\u001b[0m\u001b[0;34m\u001b[0m\u001b[0m\n\u001b[0;32m-> 3116\u001b[0;31m         \u001b[0;32mreturn\u001b[0m \u001b[0mpivot\u001b[0m\u001b[0;34m(\u001b[0m\u001b[0mself\u001b[0m\u001b[0;34m,\u001b[0m \u001b[0mindex\u001b[0m\u001b[0;34m=\u001b[0m\u001b[0mindex\u001b[0m\u001b[0;34m,\u001b[0m \u001b[0mcolumns\u001b[0m\u001b[0;34m=\u001b[0m\u001b[0mcolumns\u001b[0m\u001b[0;34m,\u001b[0m \u001b[0mvalues\u001b[0m\u001b[0;34m=\u001b[0m\u001b[0mvalues\u001b[0m\u001b[0;34m)\u001b[0m\u001b[0;34m\u001b[0m\u001b[0m\n\u001b[0m\u001b[1;32m   3117\u001b[0m \u001b[0;34m\u001b[0m\u001b[0m\n\u001b[1;32m   3118\u001b[0m     \u001b[0;32mdef\u001b[0m \u001b[0mstack\u001b[0m\u001b[0;34m(\u001b[0m\u001b[0mself\u001b[0m\u001b[0;34m,\u001b[0m \u001b[0mlevel\u001b[0m\u001b[0;34m=\u001b[0m\u001b[0;34m-\u001b[0m\u001b[0;36m1\u001b[0m\u001b[0;34m,\u001b[0m \u001b[0mdropna\u001b[0m\u001b[0;34m=\u001b[0m\u001b[0mTrue\u001b[0m\u001b[0;34m)\u001b[0m\u001b[0;34m:\u001b[0m\u001b[0;34m\u001b[0m\u001b[0m\n",
        "\u001b[0;32m/usr/lib/python2.7/dist-packages/pandas/core/reshape.pyc\u001b[0m in \u001b[0;36mpivot\u001b[0;34m(self, index, columns, values)\u001b[0m\n\u001b[1;32m    350\u001b[0m                          index=MultiIndex.from_arrays([self[index],\n\u001b[1;32m    351\u001b[0m                                                        self[columns]]))\n\u001b[0;32m--> 352\u001b[0;31m         \u001b[0;32mreturn\u001b[0m \u001b[0mindexed\u001b[0m\u001b[0;34m.\u001b[0m\u001b[0munstack\u001b[0m\u001b[0;34m(\u001b[0m\u001b[0mcolumns\u001b[0m\u001b[0;34m)\u001b[0m\u001b[0;34m\u001b[0m\u001b[0m\n\u001b[0m\u001b[1;32m    353\u001b[0m \u001b[0;34m\u001b[0m\u001b[0m\n\u001b[1;32m    354\u001b[0m \u001b[0;34m\u001b[0m\u001b[0m\n",
        "\u001b[0;32m/usr/lib/python2.7/dist-packages/pandas/core/series.pyc\u001b[0m in \u001b[0;36munstack\u001b[0;34m(self, level)\u001b[0m\n\u001b[1;32m   1919\u001b[0m         \"\"\"\n\u001b[1;32m   1920\u001b[0m         \u001b[0;32mfrom\u001b[0m \u001b[0mpandas\u001b[0m\u001b[0;34m.\u001b[0m\u001b[0mcore\u001b[0m\u001b[0;34m.\u001b[0m\u001b[0mreshape\u001b[0m \u001b[0;32mimport\u001b[0m \u001b[0munstack\u001b[0m\u001b[0;34m\u001b[0m\u001b[0m\n\u001b[0;32m-> 1921\u001b[0;31m         \u001b[0;32mreturn\u001b[0m \u001b[0munstack\u001b[0m\u001b[0;34m(\u001b[0m\u001b[0mself\u001b[0m\u001b[0;34m,\u001b[0m \u001b[0mlevel\u001b[0m\u001b[0;34m)\u001b[0m\u001b[0;34m\u001b[0m\u001b[0m\n\u001b[0m\u001b[1;32m   1922\u001b[0m \u001b[0;34m\u001b[0m\u001b[0m\n\u001b[1;32m   1923\u001b[0m     \u001b[0;31m#----------------------------------------------------------------------\u001b[0m\u001b[0;34m\u001b[0m\u001b[0;34m\u001b[0m\u001b[0m\n",
        "\u001b[0;32m/usr/lib/python2.7/dist-packages/pandas/core/reshape.pyc\u001b[0m in \u001b[0;36munstack\u001b[0;34m(obj, level)\u001b[0m\n\u001b[1;32m    424\u001b[0m             \u001b[0;32mreturn\u001b[0m \u001b[0mobj\u001b[0m\u001b[0;34m.\u001b[0m\u001b[0mT\u001b[0m\u001b[0;34m.\u001b[0m\u001b[0mstack\u001b[0m\u001b[0;34m(\u001b[0m\u001b[0mdropna\u001b[0m\u001b[0;34m=\u001b[0m\u001b[0mFalse\u001b[0m\u001b[0;34m)\u001b[0m\u001b[0;34m\u001b[0m\u001b[0m\n\u001b[1;32m    425\u001b[0m     \u001b[0;32melse\u001b[0m\u001b[0;34m:\u001b[0m\u001b[0;34m\u001b[0m\u001b[0m\n\u001b[0;32m--> 426\u001b[0;31m         \u001b[0munstacker\u001b[0m \u001b[0;34m=\u001b[0m \u001b[0m_Unstacker\u001b[0m\u001b[0;34m(\u001b[0m\u001b[0mobj\u001b[0m\u001b[0;34m.\u001b[0m\u001b[0mvalues\u001b[0m\u001b[0;34m,\u001b[0m \u001b[0mobj\u001b[0m\u001b[0;34m.\u001b[0m\u001b[0mindex\u001b[0m\u001b[0;34m,\u001b[0m \u001b[0mlevel\u001b[0m\u001b[0;34m=\u001b[0m\u001b[0mlevel\u001b[0m\u001b[0;34m)\u001b[0m\u001b[0;34m\u001b[0m\u001b[0m\n\u001b[0m\u001b[1;32m    427\u001b[0m         \u001b[0;32mreturn\u001b[0m \u001b[0munstacker\u001b[0m\u001b[0;34m.\u001b[0m\u001b[0mget_result\u001b[0m\u001b[0;34m(\u001b[0m\u001b[0;34m)\u001b[0m\u001b[0;34m\u001b[0m\u001b[0m\n\u001b[1;32m    428\u001b[0m \u001b[0;34m\u001b[0m\u001b[0m\n",
        "\u001b[0;32m/usr/lib/python2.7/dist-packages/pandas/core/reshape.pyc\u001b[0m in \u001b[0;36m__init__\u001b[0;34m(self, values, index, level, value_columns)\u001b[0m\n\u001b[1;32m     88\u001b[0m \u001b[0;34m\u001b[0m\u001b[0m\n\u001b[1;32m     89\u001b[0m         \u001b[0mself\u001b[0m\u001b[0;34m.\u001b[0m\u001b[0m_make_sorted_values_labels\u001b[0m\u001b[0;34m(\u001b[0m\u001b[0;34m)\u001b[0m\u001b[0;34m\u001b[0m\u001b[0m\n\u001b[0;32m---> 90\u001b[0;31m         \u001b[0mself\u001b[0m\u001b[0;34m.\u001b[0m\u001b[0m_make_selectors\u001b[0m\u001b[0;34m(\u001b[0m\u001b[0;34m)\u001b[0m\u001b[0;34m\u001b[0m\u001b[0m\n\u001b[0m\u001b[1;32m     91\u001b[0m \u001b[0;34m\u001b[0m\u001b[0m\n\u001b[1;32m     92\u001b[0m     \u001b[0;32mdef\u001b[0m \u001b[0m_make_sorted_values_labels\u001b[0m\u001b[0;34m(\u001b[0m\u001b[0mself\u001b[0m\u001b[0;34m)\u001b[0m\u001b[0;34m:\u001b[0m\u001b[0;34m\u001b[0m\u001b[0m\n",
        "\u001b[0;32m/usr/lib/python2.7/dist-packages/pandas/core/reshape.pyc\u001b[0m in \u001b[0;36m_make_selectors\u001b[0;34m(self)\u001b[0m\n\u001b[1;32m    130\u001b[0m \u001b[0;34m\u001b[0m\u001b[0m\n\u001b[1;32m    131\u001b[0m         \u001b[0;32mif\u001b[0m \u001b[0mmask\u001b[0m\u001b[0;34m.\u001b[0m\u001b[0msum\u001b[0m\u001b[0;34m(\u001b[0m\u001b[0;34m)\u001b[0m \u001b[0;34m<\u001b[0m \u001b[0mlen\u001b[0m\u001b[0;34m(\u001b[0m\u001b[0mself\u001b[0m\u001b[0;34m.\u001b[0m\u001b[0mindex\u001b[0m\u001b[0;34m)\u001b[0m\u001b[0;34m:\u001b[0m\u001b[0;34m\u001b[0m\u001b[0m\n\u001b[0;32m--> 132\u001b[0;31m             raise ValueError('Index contains duplicate entries, '\n\u001b[0m\u001b[1;32m    133\u001b[0m                              'cannot reshape')\n\u001b[1;32m    134\u001b[0m \u001b[0;34m\u001b[0m\u001b[0m\n",
        "\u001b[0;31mValueError\u001b[0m: Index contains duplicate entries, cannot reshape"
       ]
      }
     ],
     "prompt_number": 321
    }
   ],
   "metadata": {}
  }
 ]
}