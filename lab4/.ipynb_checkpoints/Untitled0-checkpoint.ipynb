{
 "metadata": {
  "name": ""
 },
 "nbformat": 3,
 "nbformat_minor": 0,
 "worksheets": [
  {
   "cells": [
    {
     "cell_type": "code",
     "collapsed": false,
     "input": [
      "import pandas as pd\n",
      "import numpy as np"
     ],
     "language": "python",
     "metadata": {},
     "outputs": [],
     "prompt_number": 1
    },
    {
     "cell_type": "code",
     "collapsed": false,
     "input": [
      "cmsc = pd.read_table('cmsc.txt')\n",
      "new_cmsc = cmsc['CMSC100']\n",
      "cmsc_100 = pd.Series('CMSC100')\n",
      "cmsc_100_append = cmsc_100.append(new_cmsc)\n",
      "new_table = pd.DataFrame(columns=['Course No.', \n",
      "                                     'Section No.', \n",
      "                                     'Instructor', \n",
      "                                     'Seats', \n",
      "                                     'Open', \n",
      "                                     'Waitlist', 'Days', \n",
      "                                     'Time', \n",
      "                                     'Bldg.'\n",
      "                                     , 'Room No.'])\n",
      "print cmsc_100_append[0:6]\n",
      "new"
     ],
     "language": "python",
     "metadata": {},
     "outputs": [
      {
       "output_type": "stream",
       "stream": "stdout",
       "text": [
        "0                                    CMSC100\n",
        "0                                       0101\n",
        "1                             Charles Kassir\n",
        "2    Seats (Total: 45, Open: 4, Waitlist: 0)\n",
        "3                          M 4:00pm - 4:50pm\n",
        "4                                  CSI  2117\n",
        "dtype: object\n"
       ]
      }
     ],
     "prompt_number": 137
    },
    {
     "cell_type": "code",
     "collapsed": false,
     "input": [
      "import re\n",
      "worldcup = pd.read_table('worldcup.txt')\n",
      "pattern = r'\\|style=\"background:#fff68f\"\\|{{fb\\|';\n",
      "pattern2 = r'^\\|{{fb\\|';\n",
      "pattern3 = r'[A-Z][A-Z][A-Z]';\n",
      "pattern4 = r'^\\|[0-9]';\n",
      "pattern5 = r'([0-9]+) FIFA World Cup';\n",
      "pattern6= r'\\|style=\"background:#fff68f\"\\|[0-9]+ \\(\\[\\[[0-9]+';\n",
      "pattern7= r'([0-9][0-9][0-9][0-9])';\n",
      "\n",
      "regex = re.compile(pattern)\n",
      "regex2 = re.compile(pattern2)\n",
      "regex3 = re.compile(pattern3)\n",
      "regex4 = re.compile(pattern4)\n",
      "regex5 = re.compile(pattern5)\n",
      "regex6 = re.compile(pattern6)\n",
      "regex7 = re.compile(pattern7)\n",
      "\n",
      "worldcup.columns = ['data']\n",
      "worldcup['data'][0]\n",
      "current_country = \"\"\n",
      "\n",
      "i = 1;\n",
      "for i in range(168):\n",
      "    if (regex.match(worldcup['data'][i])) or (regex2.match(worldcup['data'][i])):\n",
      "        current_name = re.search(regex3, worldcup['data'][i]);\n",
      "        current_country = current_name.group()\n",
      "        i = 1;\n",
      "        #print current_country\n",
      "    if (regex6.match(worldcup['data'][i])):\n",
      "        current_year1 = re.findall(regex7, worldcup['data'][i], flags = 0)\n",
      "        \n",
      "        if current_year1:\n",
      "            current_year1 = set(current_year1)\n",
      "            current_year1 = list(current_year1)\n",
      "            \n",
      "    if (regex4.match(worldcup['data'][i])):\n",
      "        current_year = re.findall(regex5, worldcup['data'][i], flags = 0)\n",
      "        \n",
      "        if current_year:\n",
      "            print current_year\n",
      "            "
     ],
     "language": "python",
     "metadata": {},
     "outputs": [
      {
       "output_type": "stream",
       "stream": "stdout",
       "text": [
        "['2002', '1994', '1958', '1962', '1970']\n",
        "['1950', '1998']\n",
        "['1938', '1978']\n",
        "['1974', '2014']\n",
        "['1954', '1974', '2014', '1990']\n",
        "['1966', '1982', '1986', '2002']\n",
        "['1934', '1970', '2006', '2010']\n",
        "['1958']\n",
        "['2006', '1938', '1982', '1934']\n",
        "['1970', '1994']\n",
        "['1990']\n",
        "['1978']\n",
        "['1986', '1978']\n",
        "['1930', '1990', '2014']\n",
        "['1930', '1950']\n",
        "['1954', '1970', '2010']\n",
        "['1998']\n",
        "['2006']\n",
        "['1958', '1986']\n",
        "['1982']\n",
        "['1966']\n",
        "['1990']\n",
        "['2010']\n",
        "['1950']\n",
        "['1974', '1978', '2010']\n",
        "['2014']\n",
        "['1998']\n",
        "['1934', '1962']\n",
        "['1938', '1954']\n",
        "['1958']\n",
        "['1950', '1994']\n",
        "['1938']\n",
        "['1974', '1982']\n",
        "['1954']\n",
        "['1934']\n",
        "['1966']\n",
        "['2006']\n",
        "['1930']\n",
        "['1962']\n",
        "['1998']\n",
        "['2002']\n",
        "['1930', '1962']\n",
        "['1966']\n",
        "['1986']\n",
        "['1994']\n",
        "['2002']\n"
       ]
      }
     ],
     "prompt_number": 262
    }
   ],
   "metadata": {}
  }
 ]
}